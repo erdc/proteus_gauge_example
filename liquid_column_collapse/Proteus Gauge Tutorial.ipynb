{
 "metadata": {
  "name": "",
  "signature": "sha256:d7b9eaeb4c054f28ff17a27d37aeb14bc67fd0d19d055cd58a224898eca36a68"
 },
 "nbformat": 3,
 "nbformat_minor": 0,
 "worksheets": [
  {
   "cells": [
    {
     "cell_type": "heading",
     "level": 1,
     "metadata": {},
     "source": [
      "Proteus Gauge Tutorial"
     ]
    },
    {
     "cell_type": "heading",
     "level": 2,
     "metadata": {},
     "source": [
      "Motivation"
     ]
    },
    {
     "cell_type": "markdown",
     "metadata": {},
     "source": [
      "There are a number of situations where it is useful to monitor a subset of the computed simulation values *in silico*.  In hydrodynamics, where the Proteus toolkit is frequently applied, these programmatic monitors are referred to as `Gauges`.  "
     ]
    },
    {
     "cell_type": "heading",
     "level": 2,
     "metadata": {},
     "source": [
      "Types of Gauges"
     ]
    },
    {
     "cell_type": "markdown",
     "metadata": {},
     "source": [
      "While Proteus allows experienced developers to add their own custom programmatic monitor hooks, the toolkit also provides several of the most commonly needed monitor types: point, line, and line integral gauges.\n",
      "\n",
      "* point - monitors the value of fields at a given spatial location\n",
      "* line  - monitors the value of fields along a line, at the resolution of the underlying mesh\n",
      "* line integral - monitors the line integral of fields, at the resolution of the underlying mesh"
     ]
    },
    {
     "cell_type": "markdown",
     "metadata": {},
     "source": [
      "This repository, available from https://github.com/erdc/gauge_example, provides a worked example using all three types of gauges to monitor the volume of a column of fluid as it collapses into a tank."
     ]
    },
    {
     "cell_type": "markdown",
     "metadata": {},
     "source": [
      "Most of the code is in tank.py, which represents a standard model input file."
     ]
    },
    {
     "cell_type": "heading",
     "level": 2,
     "metadata": {},
     "source": [
      "Example"
     ]
    },
    {
     "cell_type": "markdown",
     "metadata": {},
     "source": [
      "First, tank.so imports the Gauge implementations from Proteus"
     ]
    },
    {
     "cell_type": "markdown",
     "metadata": {},
     "source": [
      "```python\n",
      "from proteus.Gauges import PointGauges, LineGauges, LineIntegralGauges\n",
      "```"
     ]
    },
    {
     "cell_type": "markdown",
     "metadata": {},
     "source": [
      "Then, near the bottom of the file, the Gauges are set up:"
     ]
    },
    {
     "cell_type": "markdown",
     "metadata": {},
     "source": [
      "```python\n",
      "fields = ('vof',)\n",
      "\n",
      "lineColumn = ((0, 0, 0), (0, L[1], 0))\n",
      "columnLines = [lineColumn]\n",
      "\n",
      "columnGauge = LineIntegralGauges(gauges=((fields, columnLines),),\n",
      "                                 fileName='column_gauge.csv')\n",
      "\n",
      "lineSurge = ((0, 0, 0), (L[0], 0, 0))\n",
      "surgeLines = [lineSurge]\n",
      "\n",
      "surgeLineGauge = LineGauges(gauges=((fields, surgeLines),),\n",
      "                        fileName='surge_line_gauge.csv')\n",
      "                        \n",
      "surgeIntegralGauge = LineIntegralGauges(gauges=((fields, surgeLines),),\n",
      "                                        fileName='surge_integral_gauge.csv')\n",
      "\n",
      "fields = ('vof')\n",
      "pointGauge = PointGauges(gauges=((('vof',), ((0, 0, 0), \n",
      "                                             (a, 0, 0), \n",
      "                                             (2*a, 0, 0), \n",
      "                                             (3*a, 0, 0))),),\n",
      "                         activeTime=(0, 0.2),\n",
      "                         sampleRate=0.001,\n",
      "                         fileName='vof_point_gauge.csv')\n",
      "\n",
      "```"
     ]
    },
    {
     "cell_type": "markdown",
     "metadata": {},
     "source": [
      "All Gauges have a required field, `gauges`, which is a 2-tuple containing fields and the spatial objects for the Gauges.  `fields` is itself a tuple, listing the fields to monitor.  These fields must be available in the physics module the Gauge is attached to!  For example, these Gauges all use the `vof` field, implemented in `vof_n.py` and `vof_p.py`.  The Gauges are attached using the following line of code in `vof_n.py`:\n",
      "\n",
      "```python\n",
      "auxiliaryVariables=[columnGauge, surgeLineGauge, surgeIntegralGauge, pointGauge]\n",
      "```"
     ]
    },
    {
     "cell_type": "markdown",
     "metadata": {},
     "source": [
      "The spatial objects depend on the style of gauge.  Point gauge locations are simply sequences of points (in 3-space, as all coordinates in Proteus are described).  Line and line integral gauges are defined using line segments, which are pairs of points in 3-space.  Gauges may contain multiple fields and multiple spatial objects!"
     ]
    },
    {
     "cell_type": "markdown",
     "metadata": {},
     "source": [
      "Note that we are using two line integral gauges here along the left side and bottom of the tank, a line gauge along the bottom of the tank, and several point gauges along the bottom of the tank."
     ]
    },
    {
     "cell_type": "markdown",
     "metadata": {},
     "source": [
      "I've run this experiment using the script `run_job.sh` in the directory, and created an experiment to work with.  You'll need to adjust the experiment for your own codes."
     ]
    },
    {
     "cell_type": "code",
     "collapsed": false,
     "input": [
      "import numpy as np"
     ],
     "language": "python",
     "metadata": {},
     "outputs": [],
     "prompt_number": 5
    },
    {
     "cell_type": "code",
     "collapsed": false,
     "input": [
      "experiment_dir = \"column_collapse_40_refinement_2015.02.09_14:20:07/\""
     ],
     "language": "python",
     "metadata": {},
     "outputs": [],
     "prompt_number": 8
    },
    {
     "cell_type": "code",
     "collapsed": false,
     "input": [
      "surge_gauge_file = experiment_dir + 'surge_line_gauge.csv'\n",
      "f = open(surge_gauge_file)\n",
      "header = f.readline()\n",
      "headers = header.split(',')\n",
      "surge_xs = headers[1:]\n",
      "x = [line.split('[')[1].split()[0] for line in surge_xs]\n",
      "surge = np.genfromtxt(surge_gauge_file, delimiter=',', skip_header=1)\n",
      "t = surge[:,0]\n",
      "s = surge[:,1:]"
     ],
     "language": "python",
     "metadata": {},
     "outputs": [
      {
       "ename": "IndexError",
       "evalue": "too many indices",
       "output_type": "pyerr",
       "traceback": [
        "\u001b[0;31m---------------------------------------------------------------------------\u001b[0m\n\u001b[0;31mIndexError\u001b[0m                                Traceback (most recent call last)",
        "\u001b[0;32m<ipython-input-9-da89347c6e68>\u001b[0m in \u001b[0;36m<module>\u001b[0;34m()\u001b[0m\n\u001b[1;32m      6\u001b[0m \u001b[0mx\u001b[0m \u001b[0;34m=\u001b[0m \u001b[0;34m[\u001b[0m\u001b[0mline\u001b[0m\u001b[0;34m.\u001b[0m\u001b[0msplit\u001b[0m\u001b[0;34m(\u001b[0m\u001b[0;34m'['\u001b[0m\u001b[0;34m)\u001b[0m\u001b[0;34m[\u001b[0m\u001b[0;36m1\u001b[0m\u001b[0;34m]\u001b[0m\u001b[0;34m.\u001b[0m\u001b[0msplit\u001b[0m\u001b[0;34m(\u001b[0m\u001b[0;34m)\u001b[0m\u001b[0;34m[\u001b[0m\u001b[0;36m0\u001b[0m\u001b[0;34m]\u001b[0m \u001b[0;32mfor\u001b[0m \u001b[0mline\u001b[0m \u001b[0;32min\u001b[0m \u001b[0msurge_xs\u001b[0m\u001b[0;34m]\u001b[0m\u001b[0;34m\u001b[0m\u001b[0m\n\u001b[1;32m      7\u001b[0m \u001b[0msurge\u001b[0m \u001b[0;34m=\u001b[0m \u001b[0mnp\u001b[0m\u001b[0;34m.\u001b[0m\u001b[0mgenfromtxt\u001b[0m\u001b[0;34m(\u001b[0m\u001b[0msurge_gauge_file\u001b[0m\u001b[0;34m,\u001b[0m \u001b[0mdelimiter\u001b[0m\u001b[0;34m=\u001b[0m\u001b[0;34m','\u001b[0m\u001b[0;34m,\u001b[0m \u001b[0mskip_header\u001b[0m\u001b[0;34m=\u001b[0m\u001b[0;36m1\u001b[0m\u001b[0;34m)\u001b[0m\u001b[0;34m\u001b[0m\u001b[0m\n\u001b[0;32m----> 8\u001b[0;31m \u001b[0mt\u001b[0m \u001b[0;34m=\u001b[0m \u001b[0msurge\u001b[0m\u001b[0;34m[\u001b[0m\u001b[0;34m:\u001b[0m\u001b[0;34m,\u001b[0m\u001b[0;36m0\u001b[0m\u001b[0;34m]\u001b[0m\u001b[0;34m\u001b[0m\u001b[0m\n\u001b[0m\u001b[1;32m      9\u001b[0m \u001b[0ms\u001b[0m \u001b[0;34m=\u001b[0m \u001b[0msurge\u001b[0m\u001b[0;34m[\u001b[0m\u001b[0;34m:\u001b[0m\u001b[0;34m,\u001b[0m\u001b[0;36m1\u001b[0m\u001b[0;34m:\u001b[0m\u001b[0;34m]\u001b[0m\u001b[0;34m\u001b[0m\u001b[0m\n",
        "\u001b[0;31mIndexError\u001b[0m: too many indices"
       ]
      }
     ],
     "prompt_number": 9
    },
    {
     "cell_type": "code",
     "collapsed": false,
     "input": [
      "surge.shape"
     ],
     "language": "python",
     "metadata": {},
     "outputs": [
      {
       "metadata": {},
       "output_type": "pyout",
       "prompt_number": 12,
       "text": [
        "(254,)"
       ]
      }
     ],
     "prompt_number": 12
    },
    {
     "cell_type": "code",
     "collapsed": false,
     "input": [],
     "language": "python",
     "metadata": {},
     "outputs": []
    }
   ],
   "metadata": {}
  }
 ]
}
